{
 "cells": [
  {
   "cell_type": "markdown",
   "metadata": {},
   "source": [
    "Context: this code sample was completed for a skills assessment at a previous position, and is used with their permission. \n",
    "\n",
    "The dataset describes a list of crime reports, and some have been classified as pertaining to a home invasion. I was tasked with creating a machine learning model to classify the unknown descriptions according to whether they described a home invasion or not. \n",
    "\n",
    "This code sample is meant to be a quick highlight of my pre-processing/machine learning abilities. "
   ]
  },
  {
   "cell_type": "code",
   "execution_count": 1,
   "metadata": {},
   "outputs": [],
   "source": [
    "import pandas as pd\n",
    "import numpy as np\n",
    "import re\n",
    "import sklearn "
   ]
  },
  {
   "cell_type": "code",
   "execution_count": 2,
   "metadata": {},
   "outputs": [
    {
     "data": {
      "text/html": [
       "<div>\n",
       "<style scoped>\n",
       "    .dataframe tbody tr th:only-of-type {\n",
       "        vertical-align: middle;\n",
       "    }\n",
       "\n",
       "    .dataframe tbody tr th {\n",
       "        vertical-align: top;\n",
       "    }\n",
       "\n",
       "    .dataframe thead th {\n",
       "        text-align: right;\n",
       "    }\n",
       "</style>\n",
       "<table border=\"1\" class=\"dataframe\">\n",
       "  <thead>\n",
       "    <tr style=\"text-align: right;\">\n",
       "      <th></th>\n",
       "      <th>cr_id</th>\n",
       "      <th>text</th>\n",
       "      <th>home_invasion</th>\n",
       "    </tr>\n",
       "  </thead>\n",
       "  <tbody>\n",
       "    <tr>\n",
       "      <th>0</th>\n",
       "      <td>1042384</td>\n",
       "      <td>It is reported that the involved officer and h...</td>\n",
       "      <td>NaN</td>\n",
       "    </tr>\n",
       "    <tr>\n",
       "      <th>1</th>\n",
       "      <td>1042532</td>\n",
       "      <td>It is reported that Officers Sierra and Mosque...</td>\n",
       "      <td>NaN</td>\n",
       "    </tr>\n",
       "    <tr>\n",
       "      <th>2</th>\n",
       "      <td>1043217</td>\n",
       "      <td>IT IS REPORTED THAT THE INVOLVED MEMBER DISCOV...</td>\n",
       "      <td>NaN</td>\n",
       "    </tr>\n",
       "    <tr>\n",
       "      <th>3</th>\n",
       "      <td>1043569</td>\n",
       "      <td>It is reported that the involved member was re...</td>\n",
       "      <td>NaN</td>\n",
       "    </tr>\n",
       "    <tr>\n",
       "      <th>4</th>\n",
       "      <td>1043812</td>\n",
       "      <td>The involved officers attempted to stop a vehi...</td>\n",
       "      <td>NaN</td>\n",
       "    </tr>\n",
       "    <tr>\n",
       "      <th>5</th>\n",
       "      <td>1044135</td>\n",
       "      <td>It is reported that the subject, Dion Richards...</td>\n",
       "      <td>NaN</td>\n",
       "    </tr>\n",
       "    <tr>\n",
       "      <th>6</th>\n",
       "      <td>1044692</td>\n",
       "      <td>It is reported that while the offender was han...</td>\n",
       "      <td>NaN</td>\n",
       "    </tr>\n",
       "    <tr>\n",
       "      <th>7</th>\n",
       "      <td>1045186</td>\n",
       "      <td>It is reported the involved officer/victim was...</td>\n",
       "      <td>0.0</td>\n",
       "    </tr>\n",
       "    <tr>\n",
       "      <th>8</th>\n",
       "      <td>1045352</td>\n",
       "      <td>It is reported that during a narcotic investig...</td>\n",
       "      <td>NaN</td>\n",
       "    </tr>\n",
       "    <tr>\n",
       "      <th>9</th>\n",
       "      <td>1045759</td>\n",
       "      <td>It is reported that the involved officer obser...</td>\n",
       "      <td>NaN</td>\n",
       "    </tr>\n",
       "  </tbody>\n",
       "</table>\n",
       "</div>"
      ],
      "text/plain": [
       "     cr_id                                               text  home_invasion\n",
       "0  1042384  It is reported that the involved officer and h...            NaN\n",
       "1  1042532  It is reported that Officers Sierra and Mosque...            NaN\n",
       "2  1043217  IT IS REPORTED THAT THE INVOLVED MEMBER DISCOV...            NaN\n",
       "3  1043569  It is reported that the involved member was re...            NaN\n",
       "4  1043812  The involved officers attempted to stop a vehi...            NaN\n",
       "5  1044135  It is reported that the subject, Dion Richards...            NaN\n",
       "6  1044692  It is reported that while the offender was han...            NaN\n",
       "7  1045186  It is reported the involved officer/victim was...            0.0\n",
       "8  1045352  It is reported that during a narcotic investig...            NaN\n",
       "9  1045759  It is reported that the involved officer obser...            NaN"
      ]
     },
     "execution_count": 2,
     "metadata": {},
     "output_type": "execute_result"
    }
   ],
   "source": [
    "alls = pd.read_csv(\"allegations.csv\", sep = '|')\n",
    "alls.head(10)"
   ]
  },
  {
   "cell_type": "code",
   "execution_count": 3,
   "metadata": {},
   "outputs": [
    {
     "data": {
      "text/plain": [
       "19138"
      ]
     },
     "execution_count": 3,
     "metadata": {},
     "output_type": "execute_result"
    }
   ],
   "source": [
    "len(alls.index)"
   ]
  },
  {
   "cell_type": "markdown",
   "metadata": {},
   "source": [
    "# 1. Prepare data "
   ]
  },
  {
   "cell_type": "markdown",
   "metadata": {},
   "source": [
    "   1a. preprocess"
   ]
  },
  {
   "cell_type": "code",
   "execution_count": 4,
   "metadata": {},
   "outputs": [],
   "source": [
    "def preprocess(sentence):\n",
    "    sentence = sentence.lower()\n",
    "    sentence = re.sub(\"/\", \" \", sentence)\n",
    "    sentence = re.sub(\"[^A-Za-z ]\", \"\", sentence)\n",
    "    return sentence"
   ]
  },
  {
   "cell_type": "code",
   "execution_count": 5,
   "metadata": {},
   "outputs": [],
   "source": [
    "alls['text'] = alls['text'].apply(preprocess)"
   ]
  },
  {
   "cell_type": "code",
   "execution_count": 6,
   "metadata": {},
   "outputs": [
    {
     "data": {
      "text/html": [
       "<div>\n",
       "<style scoped>\n",
       "    .dataframe tbody tr th:only-of-type {\n",
       "        vertical-align: middle;\n",
       "    }\n",
       "\n",
       "    .dataframe tbody tr th {\n",
       "        vertical-align: top;\n",
       "    }\n",
       "\n",
       "    .dataframe thead th {\n",
       "        text-align: right;\n",
       "    }\n",
       "</style>\n",
       "<table border=\"1\" class=\"dataframe\">\n",
       "  <thead>\n",
       "    <tr style=\"text-align: right;\">\n",
       "      <th></th>\n",
       "      <th>cr_id</th>\n",
       "      <th>text</th>\n",
       "      <th>home_invasion</th>\n",
       "    </tr>\n",
       "  </thead>\n",
       "  <tbody>\n",
       "    <tr>\n",
       "      <th>7</th>\n",
       "      <td>1045186</td>\n",
       "      <td>it is reported the involved officer victim was...</td>\n",
       "      <td>0.0</td>\n",
       "    </tr>\n",
       "    <tr>\n",
       "      <th>10</th>\n",
       "      <td>1047231</td>\n",
       "      <td>it is reported that during a foot pursuit the ...</td>\n",
       "      <td>0.0</td>\n",
       "    </tr>\n",
       "    <tr>\n",
       "      <th>13</th>\n",
       "      <td>1047919</td>\n",
       "      <td>it is reported that the involved officer and h...</td>\n",
       "      <td>0.0</td>\n",
       "    </tr>\n",
       "    <tr>\n",
       "      <th>17</th>\n",
       "      <td>1048962</td>\n",
       "      <td>the victim alleges that an unknown male black ...</td>\n",
       "      <td>0.0</td>\n",
       "    </tr>\n",
       "    <tr>\n",
       "      <th>19</th>\n",
       "      <td>1048966</td>\n",
       "      <td>the reporting party victim stated that she tel...</td>\n",
       "      <td>0.0</td>\n",
       "    </tr>\n",
       "  </tbody>\n",
       "</table>\n",
       "</div>"
      ],
      "text/plain": [
       "      cr_id                                               text  home_invasion\n",
       "7   1045186  it is reported the involved officer victim was...            0.0\n",
       "10  1047231  it is reported that during a foot pursuit the ...            0.0\n",
       "13  1047919  it is reported that the involved officer and h...            0.0\n",
       "17  1048962  the victim alleges that an unknown male black ...            0.0\n",
       "19  1048966  the reporting party victim stated that she tel...            0.0"
      ]
     },
     "execution_count": 6,
     "metadata": {},
     "output_type": "execute_result"
    }
   ],
   "source": [
    "reviewed_alls = alls[(alls['home_invasion'] == 0) | (alls['home_invasion'] == 1)]\n",
    "reviewed_alls.head()"
   ]
  },
  {
   "cell_type": "code",
   "execution_count": 7,
   "metadata": {},
   "outputs": [
    {
     "data": {
      "text/plain": [
       "0.07123775601068566"
      ]
     },
     "execution_count": 7,
     "metadata": {},
     "output_type": "execute_result"
    }
   ],
   "source": [
    "np.mean(reviewed_alls['home_invasion']) # 7% of cases involve home invasion - imbalanced classes"
   ]
  },
  {
   "cell_type": "code",
   "execution_count": 8,
   "metadata": {},
   "outputs": [
    {
     "data": {
      "text/plain": [
       "2246"
      ]
     },
     "execution_count": 8,
     "metadata": {},
     "output_type": "execute_result"
    }
   ],
   "source": [
    "len(reviewed_alls.index) # n = 2246 "
   ]
  },
  {
   "cell_type": "markdown",
   "metadata": {},
   "source": [
    "1b. vectorize (using bag of words with count for simplicity, but there is a lot you could play around with here in terms of lemmatization, inculding 2 or 3 word phrases rather than just words, different methods of vectorization, etc.) "
   ]
  },
  {
   "cell_type": "code",
   "execution_count": 9,
   "metadata": {},
   "outputs": [],
   "source": [
    "from sklearn.feature_extraction.text import CountVectorizer\n",
    "vectorizer = CountVectorizer()\n",
    "x = vectorizer.fit_transform(reviewed_alls['text'])\n",
    "x = x.toarray()"
   ]
  },
  {
   "cell_type": "markdown",
   "metadata": {},
   "source": [
    "1c. split into test/train"
   ]
  },
  {
   "cell_type": "code",
   "execution_count": 10,
   "metadata": {},
   "outputs": [],
   "source": [
    "from sklearn.model_selection import train_test_split\n",
    "np.random.seed(2021)\n",
    "x_train, x_test, y_train, y_test = train_test_split(x, reviewed_alls['home_invasion'], test_size = .2)"
   ]
  },
  {
   "cell_type": "code",
   "execution_count": 11,
   "metadata": {},
   "outputs": [
    {
     "data": {
      "text/plain": [
       "8349"
      ]
     },
     "execution_count": 11,
     "metadata": {},
     "output_type": "execute_result"
    }
   ],
   "source": [
    "len(x_train[0]) # features"
   ]
  },
  {
   "cell_type": "code",
   "execution_count": 12,
   "metadata": {},
   "outputs": [
    {
     "data": {
      "text/plain": [
       "1796"
      ]
     },
     "execution_count": 12,
     "metadata": {},
     "output_type": "execute_result"
    }
   ],
   "source": [
    "len(x_train) # samples"
   ]
  },
  {
   "cell_type": "markdown",
   "metadata": {},
   "source": [
    "# 2. Fit models"
   ]
  },
  {
   "cell_type": "markdown",
   "metadata": {},
   "source": [
    "For the sake of brevity, we're going to evaluate 2 models\n",
    "1. Naive Bayes - simple (don't have to do a lot of tuning), and good baseline to compare other models to\n",
    "2. Random Forest - can easily handle a lot of features without a lot of samples, lots of opportunities for tuning hyperparameters if needed \n",
    "\n",
    "And use cross-validation instead of a validation set since we have a relatively small sample size "
   ]
  },
  {
   "cell_type": "markdown",
   "metadata": {},
   "source": [
    "2a. Naive Bayes"
   ]
  },
  {
   "cell_type": "code",
   "execution_count": 13,
   "metadata": {},
   "outputs": [
    {
     "name": "stderr",
     "output_type": "stream",
     "text": [
      "/Users/seb2244/anaconda3/lib/python3.7/site-packages/sklearn/model_selection/_split.py:1978: FutureWarning: The default value of cv will change from 3 to 5 in version 0.22. Specify it explicitly to silence this warning.\n",
      "  warnings.warn(CV_WARNING, FutureWarning)\n"
     ]
    }
   ],
   "source": [
    "from sklearn.naive_bayes import MultinomialNB \n",
    "from sklearn.model_selection import cross_val_predict\n",
    "\n",
    "nb = MultinomialNB()\n",
    "y_pred = cross_val_predict(nb, x_train, y_train)"
   ]
  },
  {
   "cell_type": "code",
   "execution_count": 14,
   "metadata": {},
   "outputs": [
    {
     "data": {
      "text/plain": [
       "array([[1649,   11],\n",
       "       [  43,   93]])"
      ]
     },
     "execution_count": 14,
     "metadata": {},
     "output_type": "execute_result"
    }
   ],
   "source": [
    "from sklearn.metrics import confusion_matrix\n",
    "\n",
    "conf_mat = confusion_matrix(y_train, y_pred)\n",
    "conf_mat"
   ]
  },
  {
   "cell_type": "code",
   "execution_count": 15,
   "metadata": {},
   "outputs": [
    {
     "data": {
      "text/plain": [
       "0.7749999999999999"
      ]
     },
     "execution_count": 15,
     "metadata": {},
     "output_type": "execute_result"
    }
   ],
   "source": [
    "from sklearn.metrics import f1_score\n",
    "f1_score(y_train, y_pred)"
   ]
  },
  {
   "cell_type": "markdown",
   "metadata": {},
   "source": [
    "2b. Random Forest"
   ]
  },
  {
   "cell_type": "code",
   "execution_count": 16,
   "metadata": {},
   "outputs": [],
   "source": [
    "from sklearn.model_selection import GridSearchCV\n",
    "from sklearn.ensemble import RandomForestClassifier"
   ]
  },
  {
   "cell_type": "code",
   "execution_count": 17,
   "metadata": {},
   "outputs": [
    {
     "data": {
      "text/html": [
       "<div>\n",
       "<style scoped>\n",
       "    .dataframe tbody tr th:only-of-type {\n",
       "        vertical-align: middle;\n",
       "    }\n",
       "\n",
       "    .dataframe tbody tr th {\n",
       "        vertical-align: top;\n",
       "    }\n",
       "\n",
       "    .dataframe thead th {\n",
       "        text-align: right;\n",
       "    }\n",
       "</style>\n",
       "<table border=\"1\" class=\"dataframe\">\n",
       "  <thead>\n",
       "    <tr style=\"text-align: right;\">\n",
       "      <th></th>\n",
       "      <th>mean_fit_time</th>\n",
       "      <th>std_fit_time</th>\n",
       "      <th>mean_score_time</th>\n",
       "      <th>std_score_time</th>\n",
       "      <th>param_max_features</th>\n",
       "      <th>param_min_samples_leaf</th>\n",
       "      <th>param_n_estimators</th>\n",
       "      <th>params</th>\n",
       "      <th>split0_test_score</th>\n",
       "      <th>split1_test_score</th>\n",
       "      <th>split2_test_score</th>\n",
       "      <th>split3_test_score</th>\n",
       "      <th>split4_test_score</th>\n",
       "      <th>mean_test_score</th>\n",
       "      <th>std_test_score</th>\n",
       "      <th>rank_test_score</th>\n",
       "    </tr>\n",
       "  </thead>\n",
       "  <tbody>\n",
       "    <tr>\n",
       "      <th>0</th>\n",
       "      <td>14.502527</td>\n",
       "      <td>0.184738</td>\n",
       "      <td>0.096057</td>\n",
       "      <td>0.019846</td>\n",
       "      <td>200</td>\n",
       "      <td>1</td>\n",
       "      <td>100</td>\n",
       "      <td>{'max_features': 200, 'min_samples_leaf': 1, '...</td>\n",
       "      <td>0.925926</td>\n",
       "      <td>0.857143</td>\n",
       "      <td>0.897959</td>\n",
       "      <td>0.808511</td>\n",
       "      <td>0.875000</td>\n",
       "      <td>0.872937</td>\n",
       "      <td>0.039603</td>\n",
       "      <td>10</td>\n",
       "    </tr>\n",
       "    <tr>\n",
       "      <th>1</th>\n",
       "      <td>25.313945</td>\n",
       "      <td>1.322230</td>\n",
       "      <td>0.098301</td>\n",
       "      <td>0.025431</td>\n",
       "      <td>200</td>\n",
       "      <td>1</td>\n",
       "      <td>200</td>\n",
       "      <td>{'max_features': 200, 'min_samples_leaf': 1, '...</td>\n",
       "      <td>0.923077</td>\n",
       "      <td>0.857143</td>\n",
       "      <td>0.875000</td>\n",
       "      <td>0.833333</td>\n",
       "      <td>0.826087</td>\n",
       "      <td>0.862962</td>\n",
       "      <td>0.034747</td>\n",
       "      <td>13</td>\n",
       "    </tr>\n",
       "    <tr>\n",
       "      <th>2</th>\n",
       "      <td>61.397486</td>\n",
       "      <td>1.552098</td>\n",
       "      <td>0.253089</td>\n",
       "      <td>0.039455</td>\n",
       "      <td>200</td>\n",
       "      <td>1</td>\n",
       "      <td>500</td>\n",
       "      <td>{'max_features': 200, 'min_samples_leaf': 1, '...</td>\n",
       "      <td>0.943396</td>\n",
       "      <td>0.857143</td>\n",
       "      <td>0.897959</td>\n",
       "      <td>0.808511</td>\n",
       "      <td>0.800000</td>\n",
       "      <td>0.861447</td>\n",
       "      <td>0.054140</td>\n",
       "      <td>14</td>\n",
       "    </tr>\n",
       "    <tr>\n",
       "      <th>3</th>\n",
       "      <td>10.765029</td>\n",
       "      <td>0.551164</td>\n",
       "      <td>0.051038</td>\n",
       "      <td>0.006429</td>\n",
       "      <td>200</td>\n",
       "      <td>2</td>\n",
       "      <td>100</td>\n",
       "      <td>{'max_features': 200, 'min_samples_leaf': 2, '...</td>\n",
       "      <td>0.857143</td>\n",
       "      <td>0.782609</td>\n",
       "      <td>0.875000</td>\n",
       "      <td>0.800000</td>\n",
       "      <td>0.650000</td>\n",
       "      <td>0.792986</td>\n",
       "      <td>0.079295</td>\n",
       "      <td>18</td>\n",
       "    </tr>\n",
       "    <tr>\n",
       "      <th>4</th>\n",
       "      <td>21.481986</td>\n",
       "      <td>0.665990</td>\n",
       "      <td>0.123327</td>\n",
       "      <td>0.028061</td>\n",
       "      <td>200</td>\n",
       "      <td>2</td>\n",
       "      <td>200</td>\n",
       "      <td>{'max_features': 200, 'min_samples_leaf': 2, '...</td>\n",
       "      <td>0.857143</td>\n",
       "      <td>0.755556</td>\n",
       "      <td>0.826087</td>\n",
       "      <td>0.772727</td>\n",
       "      <td>0.772727</td>\n",
       "      <td>0.796882</td>\n",
       "      <td>0.038380</td>\n",
       "      <td>17</td>\n",
       "    </tr>\n",
       "    <tr>\n",
       "      <th>5</th>\n",
       "      <td>52.231904</td>\n",
       "      <td>1.693824</td>\n",
       "      <td>0.293007</td>\n",
       "      <td>0.098535</td>\n",
       "      <td>200</td>\n",
       "      <td>2</td>\n",
       "      <td>500</td>\n",
       "      <td>{'max_features': 200, 'min_samples_leaf': 2, '...</td>\n",
       "      <td>0.901961</td>\n",
       "      <td>0.782609</td>\n",
       "      <td>0.851064</td>\n",
       "      <td>0.826087</td>\n",
       "      <td>0.744186</td>\n",
       "      <td>0.821226</td>\n",
       "      <td>0.054531</td>\n",
       "      <td>16</td>\n",
       "    </tr>\n",
       "    <tr>\n",
       "      <th>6</th>\n",
       "      <td>20.268893</td>\n",
       "      <td>2.537302</td>\n",
       "      <td>0.055703</td>\n",
       "      <td>0.005034</td>\n",
       "      <td>400</td>\n",
       "      <td>1</td>\n",
       "      <td>100</td>\n",
       "      <td>{'max_features': 400, 'min_samples_leaf': 1, '...</td>\n",
       "      <td>0.943396</td>\n",
       "      <td>0.857143</td>\n",
       "      <td>0.880000</td>\n",
       "      <td>0.816327</td>\n",
       "      <td>0.897959</td>\n",
       "      <td>0.879001</td>\n",
       "      <td>0.042236</td>\n",
       "      <td>4</td>\n",
       "    </tr>\n",
       "    <tr>\n",
       "      <th>7</th>\n",
       "      <td>35.619176</td>\n",
       "      <td>0.840223</td>\n",
       "      <td>0.097257</td>\n",
       "      <td>0.014800</td>\n",
       "      <td>400</td>\n",
       "      <td>1</td>\n",
       "      <td>200</td>\n",
       "      <td>{'max_features': 400, 'min_samples_leaf': 1, '...</td>\n",
       "      <td>0.945455</td>\n",
       "      <td>0.857143</td>\n",
       "      <td>0.897959</td>\n",
       "      <td>0.816327</td>\n",
       "      <td>0.897959</td>\n",
       "      <td>0.883003</td>\n",
       "      <td>0.043515</td>\n",
       "      <td>1</td>\n",
       "    </tr>\n",
       "    <tr>\n",
       "      <th>8</th>\n",
       "      <td>87.003818</td>\n",
       "      <td>2.669436</td>\n",
       "      <td>0.170745</td>\n",
       "      <td>0.015624</td>\n",
       "      <td>400</td>\n",
       "      <td>1</td>\n",
       "      <td>500</td>\n",
       "      <td>{'max_features': 400, 'min_samples_leaf': 1, '...</td>\n",
       "      <td>0.945455</td>\n",
       "      <td>0.857143</td>\n",
       "      <td>0.897959</td>\n",
       "      <td>0.816327</td>\n",
       "      <td>0.851064</td>\n",
       "      <td>0.873629</td>\n",
       "      <td>0.044327</td>\n",
       "      <td>8</td>\n",
       "    </tr>\n",
       "    <tr>\n",
       "      <th>9</th>\n",
       "      <td>16.606303</td>\n",
       "      <td>1.231102</td>\n",
       "      <td>0.047876</td>\n",
       "      <td>0.003151</td>\n",
       "      <td>400</td>\n",
       "      <td>2</td>\n",
       "      <td>100</td>\n",
       "      <td>{'max_features': 400, 'min_samples_leaf': 2, '...</td>\n",
       "      <td>0.945455</td>\n",
       "      <td>0.857143</td>\n",
       "      <td>0.875000</td>\n",
       "      <td>0.816327</td>\n",
       "      <td>0.800000</td>\n",
       "      <td>0.858833</td>\n",
       "      <td>0.051087</td>\n",
       "      <td>15</td>\n",
       "    </tr>\n",
       "    <tr>\n",
       "      <th>10</th>\n",
       "      <td>30.333612</td>\n",
       "      <td>1.209831</td>\n",
       "      <td>0.072705</td>\n",
       "      <td>0.005628</td>\n",
       "      <td>400</td>\n",
       "      <td>2</td>\n",
       "      <td>200</td>\n",
       "      <td>{'max_features': 400, 'min_samples_leaf': 2, '...</td>\n",
       "      <td>0.962963</td>\n",
       "      <td>0.857143</td>\n",
       "      <td>0.897959</td>\n",
       "      <td>0.833333</td>\n",
       "      <td>0.826087</td>\n",
       "      <td>0.875546</td>\n",
       "      <td>0.050448</td>\n",
       "      <td>7</td>\n",
       "    </tr>\n",
       "    <tr>\n",
       "      <th>11</th>\n",
       "      <td>74.706653</td>\n",
       "      <td>2.120717</td>\n",
       "      <td>0.151048</td>\n",
       "      <td>0.014260</td>\n",
       "      <td>400</td>\n",
       "      <td>2</td>\n",
       "      <td>500</td>\n",
       "      <td>{'max_features': 400, 'min_samples_leaf': 2, '...</td>\n",
       "      <td>0.925926</td>\n",
       "      <td>0.857143</td>\n",
       "      <td>0.897959</td>\n",
       "      <td>0.833333</td>\n",
       "      <td>0.851064</td>\n",
       "      <td>0.873114</td>\n",
       "      <td>0.033867</td>\n",
       "      <td>9</td>\n",
       "    </tr>\n",
       "    <tr>\n",
       "      <th>12</th>\n",
       "      <td>23.037025</td>\n",
       "      <td>0.627642</td>\n",
       "      <td>0.043827</td>\n",
       "      <td>0.003430</td>\n",
       "      <td>600</td>\n",
       "      <td>1</td>\n",
       "      <td>100</td>\n",
       "      <td>{'max_features': 600, 'min_samples_leaf': 1, '...</td>\n",
       "      <td>0.945455</td>\n",
       "      <td>0.857143</td>\n",
       "      <td>0.880000</td>\n",
       "      <td>0.816327</td>\n",
       "      <td>0.857143</td>\n",
       "      <td>0.871255</td>\n",
       "      <td>0.042445</td>\n",
       "      <td>11</td>\n",
       "    </tr>\n",
       "    <tr>\n",
       "      <th>13</th>\n",
       "      <td>45.798337</td>\n",
       "      <td>0.887917</td>\n",
       "      <td>0.072242</td>\n",
       "      <td>0.006117</td>\n",
       "      <td>600</td>\n",
       "      <td>1</td>\n",
       "      <td>200</td>\n",
       "      <td>{'max_features': 600, 'min_samples_leaf': 1, '...</td>\n",
       "      <td>0.945455</td>\n",
       "      <td>0.862745</td>\n",
       "      <td>0.880000</td>\n",
       "      <td>0.816327</td>\n",
       "      <td>0.851064</td>\n",
       "      <td>0.871159</td>\n",
       "      <td>0.042637</td>\n",
       "      <td>12</td>\n",
       "    </tr>\n",
       "    <tr>\n",
       "      <th>14</th>\n",
       "      <td>112.952051</td>\n",
       "      <td>3.948795</td>\n",
       "      <td>0.172619</td>\n",
       "      <td>0.019371</td>\n",
       "      <td>600</td>\n",
       "      <td>1</td>\n",
       "      <td>500</td>\n",
       "      <td>{'max_features': 600, 'min_samples_leaf': 1, '...</td>\n",
       "      <td>0.945455</td>\n",
       "      <td>0.846154</td>\n",
       "      <td>0.897959</td>\n",
       "      <td>0.816327</td>\n",
       "      <td>0.897959</td>\n",
       "      <td>0.880807</td>\n",
       "      <td>0.045016</td>\n",
       "      <td>3</td>\n",
       "    </tr>\n",
       "    <tr>\n",
       "      <th>15</th>\n",
       "      <td>20.983500</td>\n",
       "      <td>0.596712</td>\n",
       "      <td>0.043841</td>\n",
       "      <td>0.004855</td>\n",
       "      <td>600</td>\n",
       "      <td>2</td>\n",
       "      <td>100</td>\n",
       "      <td>{'max_features': 600, 'min_samples_leaf': 2, '...</td>\n",
       "      <td>0.945455</td>\n",
       "      <td>0.880000</td>\n",
       "      <td>0.897959</td>\n",
       "      <td>0.816327</td>\n",
       "      <td>0.875000</td>\n",
       "      <td>0.882983</td>\n",
       "      <td>0.041590</td>\n",
       "      <td>2</td>\n",
       "    </tr>\n",
       "    <tr>\n",
       "      <th>16</th>\n",
       "      <td>40.513621</td>\n",
       "      <td>2.229652</td>\n",
       "      <td>0.071897</td>\n",
       "      <td>0.010189</td>\n",
       "      <td>600</td>\n",
       "      <td>2</td>\n",
       "      <td>200</td>\n",
       "      <td>{'max_features': 600, 'min_samples_leaf': 2, '...</td>\n",
       "      <td>0.945455</td>\n",
       "      <td>0.857143</td>\n",
       "      <td>0.897959</td>\n",
       "      <td>0.816327</td>\n",
       "      <td>0.875000</td>\n",
       "      <td>0.878414</td>\n",
       "      <td>0.042902</td>\n",
       "      <td>5</td>\n",
       "    </tr>\n",
       "    <tr>\n",
       "      <th>17</th>\n",
       "      <td>72.115433</td>\n",
       "      <td>2.972392</td>\n",
       "      <td>0.123647</td>\n",
       "      <td>0.073804</td>\n",
       "      <td>600</td>\n",
       "      <td>2</td>\n",
       "      <td>500</td>\n",
       "      <td>{'max_features': 600, 'min_samples_leaf': 2, '...</td>\n",
       "      <td>0.945455</td>\n",
       "      <td>0.880000</td>\n",
       "      <td>0.897959</td>\n",
       "      <td>0.816327</td>\n",
       "      <td>0.851064</td>\n",
       "      <td>0.878198</td>\n",
       "      <td>0.043563</td>\n",
       "      <td>6</td>\n",
       "    </tr>\n",
       "  </tbody>\n",
       "</table>\n",
       "</div>"
      ],
      "text/plain": [
       "    mean_fit_time  std_fit_time  mean_score_time  std_score_time  \\\n",
       "0       14.502527      0.184738         0.096057        0.019846   \n",
       "1       25.313945      1.322230         0.098301        0.025431   \n",
       "2       61.397486      1.552098         0.253089        0.039455   \n",
       "3       10.765029      0.551164         0.051038        0.006429   \n",
       "4       21.481986      0.665990         0.123327        0.028061   \n",
       "5       52.231904      1.693824         0.293007        0.098535   \n",
       "6       20.268893      2.537302         0.055703        0.005034   \n",
       "7       35.619176      0.840223         0.097257        0.014800   \n",
       "8       87.003818      2.669436         0.170745        0.015624   \n",
       "9       16.606303      1.231102         0.047876        0.003151   \n",
       "10      30.333612      1.209831         0.072705        0.005628   \n",
       "11      74.706653      2.120717         0.151048        0.014260   \n",
       "12      23.037025      0.627642         0.043827        0.003430   \n",
       "13      45.798337      0.887917         0.072242        0.006117   \n",
       "14     112.952051      3.948795         0.172619        0.019371   \n",
       "15      20.983500      0.596712         0.043841        0.004855   \n",
       "16      40.513621      2.229652         0.071897        0.010189   \n",
       "17      72.115433      2.972392         0.123647        0.073804   \n",
       "\n",
       "   param_max_features param_min_samples_leaf param_n_estimators  \\\n",
       "0                 200                      1                100   \n",
       "1                 200                      1                200   \n",
       "2                 200                      1                500   \n",
       "3                 200                      2                100   \n",
       "4                 200                      2                200   \n",
       "5                 200                      2                500   \n",
       "6                 400                      1                100   \n",
       "7                 400                      1                200   \n",
       "8                 400                      1                500   \n",
       "9                 400                      2                100   \n",
       "10                400                      2                200   \n",
       "11                400                      2                500   \n",
       "12                600                      1                100   \n",
       "13                600                      1                200   \n",
       "14                600                      1                500   \n",
       "15                600                      2                100   \n",
       "16                600                      2                200   \n",
       "17                600                      2                500   \n",
       "\n",
       "                                               params  split0_test_score  \\\n",
       "0   {'max_features': 200, 'min_samples_leaf': 1, '...           0.925926   \n",
       "1   {'max_features': 200, 'min_samples_leaf': 1, '...           0.923077   \n",
       "2   {'max_features': 200, 'min_samples_leaf': 1, '...           0.943396   \n",
       "3   {'max_features': 200, 'min_samples_leaf': 2, '...           0.857143   \n",
       "4   {'max_features': 200, 'min_samples_leaf': 2, '...           0.857143   \n",
       "5   {'max_features': 200, 'min_samples_leaf': 2, '...           0.901961   \n",
       "6   {'max_features': 400, 'min_samples_leaf': 1, '...           0.943396   \n",
       "7   {'max_features': 400, 'min_samples_leaf': 1, '...           0.945455   \n",
       "8   {'max_features': 400, 'min_samples_leaf': 1, '...           0.945455   \n",
       "9   {'max_features': 400, 'min_samples_leaf': 2, '...           0.945455   \n",
       "10  {'max_features': 400, 'min_samples_leaf': 2, '...           0.962963   \n",
       "11  {'max_features': 400, 'min_samples_leaf': 2, '...           0.925926   \n",
       "12  {'max_features': 600, 'min_samples_leaf': 1, '...           0.945455   \n",
       "13  {'max_features': 600, 'min_samples_leaf': 1, '...           0.945455   \n",
       "14  {'max_features': 600, 'min_samples_leaf': 1, '...           0.945455   \n",
       "15  {'max_features': 600, 'min_samples_leaf': 2, '...           0.945455   \n",
       "16  {'max_features': 600, 'min_samples_leaf': 2, '...           0.945455   \n",
       "17  {'max_features': 600, 'min_samples_leaf': 2, '...           0.945455   \n",
       "\n",
       "    split1_test_score  split2_test_score  split3_test_score  \\\n",
       "0            0.857143           0.897959           0.808511   \n",
       "1            0.857143           0.875000           0.833333   \n",
       "2            0.857143           0.897959           0.808511   \n",
       "3            0.782609           0.875000           0.800000   \n",
       "4            0.755556           0.826087           0.772727   \n",
       "5            0.782609           0.851064           0.826087   \n",
       "6            0.857143           0.880000           0.816327   \n",
       "7            0.857143           0.897959           0.816327   \n",
       "8            0.857143           0.897959           0.816327   \n",
       "9            0.857143           0.875000           0.816327   \n",
       "10           0.857143           0.897959           0.833333   \n",
       "11           0.857143           0.897959           0.833333   \n",
       "12           0.857143           0.880000           0.816327   \n",
       "13           0.862745           0.880000           0.816327   \n",
       "14           0.846154           0.897959           0.816327   \n",
       "15           0.880000           0.897959           0.816327   \n",
       "16           0.857143           0.897959           0.816327   \n",
       "17           0.880000           0.897959           0.816327   \n",
       "\n",
       "    split4_test_score  mean_test_score  std_test_score  rank_test_score  \n",
       "0            0.875000         0.872937        0.039603               10  \n",
       "1            0.826087         0.862962        0.034747               13  \n",
       "2            0.800000         0.861447        0.054140               14  \n",
       "3            0.650000         0.792986        0.079295               18  \n",
       "4            0.772727         0.796882        0.038380               17  \n",
       "5            0.744186         0.821226        0.054531               16  \n",
       "6            0.897959         0.879001        0.042236                4  \n",
       "7            0.897959         0.883003        0.043515                1  \n",
       "8            0.851064         0.873629        0.044327                8  \n",
       "9            0.800000         0.858833        0.051087               15  \n",
       "10           0.826087         0.875546        0.050448                7  \n",
       "11           0.851064         0.873114        0.033867                9  \n",
       "12           0.857143         0.871255        0.042445               11  \n",
       "13           0.851064         0.871159        0.042637               12  \n",
       "14           0.897959         0.880807        0.045016                3  \n",
       "15           0.875000         0.882983        0.041590                2  \n",
       "16           0.875000         0.878414        0.042902                5  \n",
       "17           0.851064         0.878198        0.043563                6  "
      ]
     },
     "execution_count": 17,
     "metadata": {},
     "output_type": "execute_result"
    }
   ],
   "source": [
    "# select best hyperparameters using grid search\n",
    "\n",
    "rf = RandomForestClassifier()\n",
    "# define search space\n",
    "space = dict()\n",
    "space['n_estimators'] = [100, 200, 500] \n",
    "space['min_samples_leaf'] = [1, 2]\n",
    "space['max_features'] = [200, 400, 600]\n",
    "\n",
    "# search \n",
    "search = GridSearchCV(rf, space, scoring='f1', n_jobs =-1, cv=5, refit=False) # figure out how to use refit \n",
    "search.fit(x_train,y_train) \n",
    "\n",
    "# visualize results \n",
    "pd.DataFrame(search.cv_results_)"
   ]
  },
  {
   "cell_type": "code",
   "execution_count": 18,
   "metadata": {},
   "outputs": [
    {
     "name": "stderr",
     "output_type": "stream",
     "text": [
      "/Users/seb2244/anaconda3/lib/python3.7/site-packages/sklearn/model_selection/_split.py:1978: FutureWarning: The default value of cv will change from 3 to 5 in version 0.22. Specify it explicitly to silence this warning.\n",
      "  warnings.warn(CV_WARNING, FutureWarning)\n"
     ]
    }
   ],
   "source": [
    "# build a random forest based on the best parameters \n",
    "rf_clf = RandomForestClassifier(**search.best_params_) \n",
    "y_pred = cross_val_predict(rf_clf, x_train, y_train)"
   ]
  },
  {
   "cell_type": "code",
   "execution_count": 19,
   "metadata": {},
   "outputs": [
    {
     "data": {
      "text/plain": [
       "array([[1654,    6],\n",
       "       [  26,  110]])"
      ]
     },
     "execution_count": 19,
     "metadata": {},
     "output_type": "execute_result"
    }
   ],
   "source": [
    "conf_mat = confusion_matrix(y_train, y_pred)\n",
    "conf_mat"
   ]
  },
  {
   "cell_type": "code",
   "execution_count": 20,
   "metadata": {},
   "outputs": [
    {
     "data": {
      "text/plain": [
       "0.873015873015873"
      ]
     },
     "execution_count": 20,
     "metadata": {},
     "output_type": "execute_result"
    }
   ],
   "source": [
    "f1_score(y_train, y_pred)"
   ]
  },
  {
   "cell_type": "markdown",
   "metadata": {},
   "source": [
    "There are still a lot more false negatives than false positives, so depending on the real-world ramifications for these categories we could adjust the threshold for declaring something a home invasion. However without any outside context, I'm pretty happy with this f-score compared to how naive bayes scored, so let's move on. "
   ]
  },
  {
   "cell_type": "markdown",
   "metadata": {},
   "source": [
    "# 3. final evaluation on test data for the model selected"
   ]
  },
  {
   "cell_type": "code",
   "execution_count": 21,
   "metadata": {},
   "outputs": [
    {
     "data": {
      "text/plain": [
       "RandomForestClassifier(bootstrap=True, class_weight=None, criterion='gini',\n",
       "                       max_depth=None, max_features=400, max_leaf_nodes=None,\n",
       "                       min_impurity_decrease=0.0, min_impurity_split=None,\n",
       "                       min_samples_leaf=1, min_samples_split=2,\n",
       "                       min_weight_fraction_leaf=0.0, n_estimators=200,\n",
       "                       n_jobs=None, oob_score=False, random_state=None,\n",
       "                       verbose=0, warm_start=False)"
      ]
     },
     "execution_count": 21,
     "metadata": {},
     "output_type": "execute_result"
    }
   ],
   "source": [
    "rf_clf.fit(x_train, y_train)"
   ]
  },
  {
   "cell_type": "code",
   "execution_count": 22,
   "metadata": {},
   "outputs": [],
   "source": [
    "y_pred = rf_clf.predict(x_test)"
   ]
  },
  {
   "cell_type": "code",
   "execution_count": 23,
   "metadata": {},
   "outputs": [
    {
     "data": {
      "text/plain": [
       "array([[426,   0],\n",
       "       [  1,  23]])"
      ]
     },
     "execution_count": 23,
     "metadata": {},
     "output_type": "execute_result"
    }
   ],
   "source": [
    "conf_mat = confusion_matrix(y_test, y_pred)\n",
    "conf_mat"
   ]
  },
  {
   "cell_type": "code",
   "execution_count": 24,
   "metadata": {},
   "outputs": [
    {
     "data": {
      "text/plain": [
       "0.9787234042553191"
      ]
     },
     "execution_count": 24,
     "metadata": {},
     "output_type": "execute_result"
    }
   ],
   "source": [
    "f1_score(y_test, y_pred)"
   ]
  },
  {
   "cell_type": "code",
   "execution_count": 28,
   "metadata": {},
   "outputs": [
    {
     "data": {
      "text/plain": [
       "'digraph Tree {\\nnode [shape=box, style=\"filled, rounded\", color=\"black\", fontname=helvetica] ;\\nedge [fontname=helvetica] ;\\n0 [label=\"X[6408] <= 0.5\\\\ngini = 0.147\\\\nsamples = 1136\\\\nvalue = [1652, 144]\", fillcolor=\"#e78c4a\"] ;\\n1 [label=\"X[3393] <= 0.5\\\\ngini = 0.099\\\\nsamples = 1049\\\\nvalue = [1564, 86]\", fillcolor=\"#e68844\"] ;\\n0 -> 1 [labeldistance=2.5, labelangle=45, headlabel=\"True\"] ;\\n2 [label=\"X[2408] <= 0.5\\\\ngini = 0.077\\\\nsamples = 999\\\\nvalue = [1510, 63]\", fillcolor=\"#e68641\"] ;\\n1 -> 2 ;\\n3 [label=\"X[2919] <= 1.5\\\\ngini = 0.049\\\\nsamples = 981\\\\nvalue = [1505, 39]\", fillcolor=\"#e6843e\"] ;\\n2 -> 3 ;\\n4 [label=\"X[2530] <= 1.0\\\\ngini = 0.042\\\\nsamples = 979\\\\nvalue = [1505, 33]\", fillcolor=\"#e6843d\"] ;\\n3 -> 4 ;\\n5 [label=\"X[2528] <= 1.0\\\\ngini = 0.037\\\\nsamples = 975\\\\nvalue = [1504, 29]\", fillcolor=\"#e6833d\"] ;\\n4 -> 5 ;\\n6 [label=\"X[5620] <= 0.5\\\\ngini = 0.03\\\\nsamples = 972\\\\nvalue = [1504, 23]\", fillcolor=\"#e5833c\"] ;\\n5 -> 6 ;\\n7 [label=\"X[8000] <= 1.0\\\\ngini = 0.023\\\\nsamples = 966\\\\nvalue = [1498, 18]\", fillcolor=\"#e5833b\"] ;\\n6 -> 7 ;\\n8 [label=\"X[450] <= 0.5\\\\ngini = 0.021\\\\nsamples = 965\\\\nvalue = [1498, 16]\", fillcolor=\"#e5823b\"] ;\\n7 -> 8 ;\\n9 [label=\"X[4179] <= 0.5\\\\ngini = 0.018\\\\nsamples = 964\\\\nvalue = [1498, 14]\", fillcolor=\"#e5823b\"] ;\\n8 -> 9 ;\\n10 [label=\"X[6087] <= 0.5\\\\ngini = 0.016\\\\nsamples = 963\\\\nvalue = [1498, 12]\", fillcolor=\"#e5823b\"] ;\\n9 -> 10 ;\\n11 [label=\"X[2117] <= 0.5\\\\ngini = 0.013\\\\nsamples = 962\\\\nvalue = [1498, 10]\", fillcolor=\"#e5823a\"] ;\\n10 -> 11 ;\\n12 [label=\"X[2529] <= 0.5\\\\ngini = 0.012\\\\nsamples = 961\\\\nvalue = [1498, 9]\", fillcolor=\"#e5823a\"] ;\\n11 -> 12 ;\\n13 [label=\"X[1933] <= 0.5\\\\ngini = 0.009\\\\nsamples = 958\\\\nvalue = [1497, 7]\", fillcolor=\"#e5823a\"] ;\\n12 -> 13 ;\\n14 [label=\"X[8144] <= 1.5\\\\ngini = 0.007\\\\nsamples = 957\\\\nvalue = [1497, 5]\", fillcolor=\"#e5813a\"] ;\\n13 -> 14 ;\\n15 [label=\"X[2910] <= 0.5\\\\ngini = 0.005\\\\nsamples = 940\\\\nvalue = [1472, 4]\", fillcolor=\"#e5813a\"] ;\\n14 -> 15 ;\\n16 [label=\"X[2184] <= 1.5\\\\ngini = 0.006\\\\nsamples = 803\\\\nvalue = [1256, 4]\", fillcolor=\"#e5813a\"] ;\\n15 -> 16 ;\\n17 [label=\"X[618] <= 0.5\\\\ngini = 0.005\\\\nsamples = 802\\\\nvalue = [1256, 3]\", fillcolor=\"#e58139\"] ;\\n16 -> 17 ;\\n18 [label=\"X[933] <= 0.5\\\\ngini = 0.003\\\\nsamples = 783\\\\nvalue = [1227, 2]\", fillcolor=\"#e58139\"] ;\\n17 -> 18 ;\\n19 [label=\"X[7857] <= 0.5\\\\ngini = 0.002\\\\nsamples = 780\\\\nvalue = [1225, 1]\", fillcolor=\"#e58139\"] ;\\n18 -> 19 ;\\n20 [label=\"X[3274] <= 0.5\\\\ngini = 0.002\\\\nsamples = 663\\\\nvalue = [1042, 1]\", fillcolor=\"#e58139\"] ;\\n19 -> 20 ;\\n21 [label=\"gini = 0.0\\\\nsamples = 399\\\\nvalue = [620, 0]\", fillcolor=\"#e58139\"] ;\\n20 -> 21 ;\\n22 [label=\"X[1219] <= 1.5\\\\ngini = 0.005\\\\nsamples = 264\\\\nvalue = [422, 1]\", fillcolor=\"#e58139\"] ;\\n20 -> 22 ;\\n23 [label=\"gini = 0.0\\\\nsamples = 259\\\\nvalue = [415, 0]\", fillcolor=\"#e58139\"] ;\\n22 -> 23 ;\\n24 [label=\"X[4292] <= 0.5\\\\ngini = 0.219\\\\nsamples = 5\\\\nvalue = [7, 1]\", fillcolor=\"#e99355\"] ;\\n22 -> 24 ;\\n25 [label=\"gini = 0.0\\\\nsamples = 4\\\\nvalue = [7, 0]\", fillcolor=\"#e58139\"] ;\\n24 -> 25 ;\\n26 [label=\"gini = 0.0\\\\nsamples = 1\\\\nvalue = [0, 1]\", fillcolor=\"#399de5\"] ;\\n24 -> 26 ;\\n27 [label=\"gini = 0.0\\\\nsamples = 117\\\\nvalue = [183, 0]\", fillcolor=\"#e58139\"] ;\\n19 -> 27 ;\\n28 [label=\"X[5676] <= 1.0\\\\ngini = 0.444\\\\nsamples = 3\\\\nvalue = [2, 1]\", fillcolor=\"#f2c09c\"] ;\\n18 -> 28 ;\\n29 [label=\"X[5015] <= 0.5\\\\ngini = 0.5\\\\nsamples = 2\\\\nvalue = [1, 1]\", fillcolor=\"#ffffff\"] ;\\n28 -> 29 ;\\n30 [label=\"gini = 0.0\\\\nsamples = 1\\\\nvalue = [1, 0]\", fillcolor=\"#e58139\"] ;\\n29 -> 30 ;\\n31 [label=\"gini = 0.0\\\\nsamples = 1\\\\nvalue = [0, 1]\", fillcolor=\"#399de5\"] ;\\n29 -> 31 ;\\n32 [label=\"gini = 0.0\\\\nsamples = 1\\\\nvalue = [1, 0]\", fillcolor=\"#e58139\"] ;\\n28 -> 32 ;\\n33 [label=\"X[7293] <= 2.5\\\\ngini = 0.064\\\\nsamples = 19\\\\nvalue = [29, 1]\", fillcolor=\"#e68540\"] ;\\n17 -> 33 ;\\n34 [label=\"X[5971] <= 0.5\\\\ngini = 0.375\\\\nsamples = 3\\\\nvalue = [3, 1]\", fillcolor=\"#eeab7b\"] ;\\n33 -> 34 ;\\n35 [label=\"X[8032] <= 0.5\\\\ngini = 0.5\\\\nsamples = 2\\\\nvalue = [1, 1]\", fillcolor=\"#ffffff\"] ;\\n34 -> 35 ;\\n36 [label=\"gini = 0.0\\\\nsamples = 1\\\\nvalue = [0, 1]\", fillcolor=\"#399de5\"] ;\\n35 -> 36 ;\\n37 [label=\"gini = 0.0\\\\nsamples = 1\\\\nvalue = [1, 0]\", fillcolor=\"#e58139\"] ;\\n35 -> 37 ;\\n38 [label=\"gini = 0.0\\\\nsamples = 1\\\\nvalue = [2, 0]\", fillcolor=\"#e58139\"] ;\\n34 -> 38 ;\\n39 [label=\"gini = 0.0\\\\nsamples = 16\\\\nvalue = [26, 0]\", fillcolor=\"#e58139\"] ;\\n33 -> 39 ;\\n40 [label=\"gini = 0.0\\\\nsamples = 1\\\\nvalue = [0, 1]\", fillcolor=\"#399de5\"] ;\\n16 -> 40 ;\\n41 [label=\"gini = 0.0\\\\nsamples = 137\\\\nvalue = [216, 0]\", fillcolor=\"#e58139\"] ;\\n15 -> 41 ;\\n42 [label=\"X[2638] <= 1.0\\\\ngini = 0.074\\\\nsamples = 17\\\\nvalue = [25, 1]\", fillcolor=\"#e68641\"] ;\\n14 -> 42 ;\\n43 [label=\"gini = 0.0\\\\nsamples = 16\\\\nvalue = [25, 0]\", fillcolor=\"#e58139\"] ;\\n42 -> 43 ;\\n44 [label=\"gini = 0.0\\\\nsamples = 1\\\\nvalue = [0, 1]\", fillcolor=\"#399de5\"] ;\\n42 -> 44 ;\\n45 [label=\"gini = 0.0\\\\nsamples = 1\\\\nvalue = [0, 2]\", fillcolor=\"#399de5\"] ;\\n13 -> 45 ;\\n46 [label=\"X[6084] <= 0.5\\\\ngini = 0.444\\\\nsamples = 3\\\\nvalue = [1, 2]\", fillcolor=\"#9ccef2\"] ;\\n12 -> 46 ;\\n47 [label=\"gini = 0.0\\\\nsamples = 1\\\\nvalue = [1, 0]\", fillcolor=\"#e58139\"] ;\\n46 -> 47 ;\\n48 [label=\"gini = 0.0\\\\nsamples = 2\\\\nvalue = [0, 2]\", fillcolor=\"#399de5\"] ;\\n46 -> 48 ;\\n49 [label=\"gini = 0.0\\\\nsamples = 1\\\\nvalue = [0, 1]\", fillcolor=\"#399de5\"] ;\\n11 -> 49 ;\\n50 [label=\"gini = 0.0\\\\nsamples = 1\\\\nvalue = [0, 2]\", fillcolor=\"#399de5\"] ;\\n10 -> 50 ;\\n51 [label=\"gini = 0.0\\\\nsamples = 1\\\\nvalue = [0, 2]\", fillcolor=\"#399de5\"] ;\\n9 -> 51 ;\\n52 [label=\"gini = 0.0\\\\nsamples = 1\\\\nvalue = [0, 2]\", fillcolor=\"#399de5\"] ;\\n8 -> 52 ;\\n53 [label=\"gini = 0.0\\\\nsamples = 1\\\\nvalue = [0, 2]\", fillcolor=\"#399de5\"] ;\\n7 -> 53 ;\\n54 [label=\"X[407] <= 0.5\\\\ngini = 0.496\\\\nsamples = 6\\\\nvalue = [6, 5]\", fillcolor=\"#fbeade\"] ;\\n6 -> 54 ;\\n55 [label=\"X[296] <= 3.5\\\\ngini = 0.375\\\\nsamples = 5\\\\nvalue = [6, 2]\", fillcolor=\"#eeab7b\"] ;\\n54 -> 55 ;\\n56 [label=\"gini = 0.0\\\\nsamples = 4\\\\nvalue = [6, 0]\", fillcolor=\"#e58139\"] ;\\n55 -> 56 ;\\n57 [label=\"gini = 0.0\\\\nsamples = 1\\\\nvalue = [0, 2]\", fillcolor=\"#399de5\"] ;\\n55 -> 57 ;\\n58 [label=\"gini = 0.0\\\\nsamples = 1\\\\nvalue = [0, 3]\", fillcolor=\"#399de5\"] ;\\n54 -> 58 ;\\n59 [label=\"gini = 0.0\\\\nsamples = 3\\\\nvalue = [0, 6]\", fillcolor=\"#399de5\"] ;\\n5 -> 59 ;\\n60 [label=\"X[77] <= 1.5\\\\ngini = 0.32\\\\nsamples = 4\\\\nvalue = [1, 4]\", fillcolor=\"#6ab6ec\"] ;\\n4 -> 60 ;\\n61 [label=\"gini = 0.0\\\\nsamples = 1\\\\nvalue = [1, 0]\", fillcolor=\"#e58139\"] ;\\n60 -> 61 ;\\n62 [label=\"gini = 0.0\\\\nsamples = 3\\\\nvalue = [0, 4]\", fillcolor=\"#399de5\"] ;\\n60 -> 62 ;\\n63 [label=\"gini = 0.0\\\\nsamples = 2\\\\nvalue = [0, 6]\", fillcolor=\"#399de5\"] ;\\n3 -> 63 ;\\n64 [label=\"X[3870] <= 0.5\\\\ngini = 0.285\\\\nsamples = 18\\\\nvalue = [5, 24]\", fillcolor=\"#62b1ea\"] ;\\n2 -> 64 ;\\n65 [label=\"X[1074] <= 1.5\\\\ngini = 0.077\\\\nsamples = 15\\\\nvalue = [1, 24]\", fillcolor=\"#41a1e6\"] ;\\n64 -> 65 ;\\n66 [label=\"gini = 0.0\\\\nsamples = 14\\\\nvalue = [0, 24]\", fillcolor=\"#399de5\"] ;\\n65 -> 66 ;\\n67 [label=\"gini = 0.0\\\\nsamples = 1\\\\nvalue = [1, 0]\", fillcolor=\"#e58139\"] ;\\n65 -> 67 ;\\n68 [label=\"gini = 0.0\\\\nsamples = 3\\\\nvalue = [4, 0]\", fillcolor=\"#e58139\"] ;\\n64 -> 68 ;\\n69 [label=\"X[3231] <= 0.5\\\\ngini = 0.419\\\\nsamples = 50\\\\nvalue = [54, 23]\", fillcolor=\"#f0b78d\"] ;\\n1 -> 69 ;\\n70 [label=\"X[3112] <= 0.5\\\\ngini = 0.479\\\\nsamples = 33\\\\nvalue = [35, 23]\", fillcolor=\"#f6d4bb\"] ;\\n69 -> 70 ;\\n71 [label=\"X[8027] <= 0.5\\\\ngini = 0.5\\\\nsamples = 29\\\\nvalue = [24, 23]\", fillcolor=\"#fefaf7\"] ;\\n70 -> 71 ;\\n72 [label=\"X[696] <= 1.5\\\\ngini = 0.198\\\\nsamples = 19\\\\nvalue = [24, 3]\", fillcolor=\"#e89152\"] ;\\n71 -> 72 ;\\n73 [label=\"X[5169] <= 0.5\\\\ngini = 0.077\\\\nsamples = 18\\\\nvalue = [24, 1]\", fillcolor=\"#e68641\"] ;\\n72 -> 73 ;\\n74 [label=\"gini = 0.0\\\\nsamples = 17\\\\nvalue = [24, 0]\", fillcolor=\"#e58139\"] ;\\n73 -> 74 ;\\n75 [label=\"gini = 0.0\\\\nsamples = 1\\\\nvalue = [0, 1]\", fillcolor=\"#399de5\"] ;\\n73 -> 75 ;\\n76 [label=\"gini = 0.0\\\\nsamples = 1\\\\nvalue = [0, 2]\", fillcolor=\"#399de5\"] ;\\n72 -> 76 ;\\n77 [label=\"gini = 0.0\\\\nsamples = 10\\\\nvalue = [0, 20]\", fillcolor=\"#399de5\"] ;\\n71 -> 77 ;\\n78 [label=\"gini = 0.0\\\\nsamples = 4\\\\nvalue = [11, 0]\", fillcolor=\"#e58139\"] ;\\n70 -> 78 ;\\n79 [label=\"gini = 0.0\\\\nsamples = 17\\\\nvalue = [19, 0]\", fillcolor=\"#e58139\"] ;\\n69 -> 79 ;\\n80 [label=\"X[3878] <= 0.5\\\\ngini = 0.479\\\\nsamples = 87\\\\nvalue = [88, 58]\", fillcolor=\"#f6d4bc\"] ;\\n0 -> 80 [labeldistance=2.5, labelangle=-45, headlabel=\"False\"] ;\\n81 [label=\"X[3813] <= 1.5\\\\ngini = 0.465\\\\nsamples = 82\\\\nvalue = [88, 51]\", fillcolor=\"#f4caac\"] ;\\n80 -> 81 ;\\n82 [label=\"X[8027] <= 0.5\\\\ngini = 0.454\\\\nsamples = 81\\\\nvalue = [88, 47]\", fillcolor=\"#f3c4a3\"] ;\\n81 -> 82 ;\\n83 [label=\"X[8114] <= 0.5\\\\ngini = 0.271\\\\nsamples = 62\\\\nvalue = [88, 17]\", fillcolor=\"#ea995f\"] ;\\n82 -> 83 ;\\n84 [label=\"X[8131] <= 0.5\\\\ngini = 0.249\\\\nsamples = 61\\\\nvalue = [88, 15]\", fillcolor=\"#e9965b\"] ;\\n83 -> 84 ;\\n85 [label=\"X[4977] <= 1.5\\\\ngini = 0.165\\\\nsamples = 52\\\\nvalue = [80, 8]\", fillcolor=\"#e88e4d\"] ;\\n84 -> 85 ;\\n86 [label=\"X[296] <= 2.5\\\\ngini = 0.228\\\\nsamples = 36\\\\nvalue = [53, 8]\", fillcolor=\"#e99457\"] ;\\n85 -> 86 ;\\n87 [label=\"X[294] <= 2.5\\\\ngini = 0.292\\\\nsamples = 28\\\\nvalue = [37, 8]\", fillcolor=\"#eb9c64\"] ;\\n86 -> 87 ;\\n88 [label=\"X[4045] <= 0.5\\\\ngini = 0.326\\\\nsamples = 23\\\\nvalue = [31, 8]\", fillcolor=\"#eca26c\"] ;\\n87 -> 88 ;\\n89 [label=\"X[3849] <= 0.5\\\\ngini = 0.245\\\\nsamples = 21\\\\nvalue = [30, 5]\", fillcolor=\"#e9965a\"] ;\\n88 -> 89 ;\\n90 [label=\"X[7286] <= 1.5\\\\ngini = 0.204\\\\nsamples = 16\\\\nvalue = [23, 3]\", fillcolor=\"#e89153\"] ;\\n89 -> 90 ;\\n91 [label=\"X[294] <= 0.5\\\\ngini = 0.124\\\\nsamples = 10\\\\nvalue = [14, 1]\", fillcolor=\"#e78a47\"] ;\\n90 -> 91 ;\\n92 [label=\"X[8125] <= 0.5\\\\ngini = 0.219\\\\nsamples = 5\\\\nvalue = [7, 1]\", fillcolor=\"#e99355\"] ;\\n91 -> 92 ;\\n93 [label=\"gini = 0.0\\\\nsamples = 4\\\\nvalue = [7, 0]\", fillcolor=\"#e58139\"] ;\\n92 -> 93 ;\\n94 [label=\"gini = 0.0\\\\nsamples = 1\\\\nvalue = [0, 1]\", fillcolor=\"#399de5\"] ;\\n92 -> 94 ;\\n95 [label=\"gini = 0.0\\\\nsamples = 5\\\\nvalue = [7, 0]\", fillcolor=\"#e58139\"] ;\\n91 -> 95 ;\\n96 [label=\"X[6989] <= 0.5\\\\ngini = 0.298\\\\nsamples = 6\\\\nvalue = [9, 2]\", fillcolor=\"#eb9d65\"] ;\\n90 -> 96 ;\\n97 [label=\"X[6933] <= 0.5\\\\ngini = 0.18\\\\nsamples = 5\\\\nvalue = [9, 1]\", fillcolor=\"#e88f4f\"] ;\\n96 -> 97 ;\\n98 [label=\"X[6408] <= 1.5\\\\ngini = 0.375\\\\nsamples = 3\\\\nvalue = [3, 1]\", fillcolor=\"#eeab7b\"] ;\\n97 -> 98 ;\\n99 [label=\"gini = 0.0\\\\nsamples = 1\\\\nvalue = [0, 1]\", fillcolor=\"#399de5\"] ;\\n98 -> 99 ;\\n100 [label=\"gini = 0.0\\\\nsamples = 2\\\\nvalue = [3, 0]\", fillcolor=\"#e58139\"] ;\\n98 -> 100 ;\\n101 [label=\"gini = 0.0\\\\nsamples = 2\\\\nvalue = [6, 0]\", fillcolor=\"#e58139\"] ;\\n97 -> 101 ;\\n102 [label=\"gini = 0.0\\\\nsamples = 1\\\\nvalue = [0, 1]\", fillcolor=\"#399de5\"] ;\\n96 -> 102 ;\\n103 [label=\"X[1148] <= 0.5\\\\ngini = 0.346\\\\nsamples = 5\\\\nvalue = [7, 2]\", fillcolor=\"#eca572\"] ;\\n89 -> 103 ;\\n104 [label=\"X[5259] <= 0.5\\\\ngini = 0.444\\\\nsamples = 4\\\\nvalue = [4, 2]\", fillcolor=\"#f2c09c\"] ;\\n103 -> 104 ;\\n105 [label=\"gini = 0.0\\\\nsamples = 3\\\\nvalue = [4, 0]\", fillcolor=\"#e58139\"] ;\\n104 -> 105 ;\\n106 [label=\"gini = 0.0\\\\nsamples = 1\\\\nvalue = [0, 2]\", fillcolor=\"#399de5\"] ;\\n104 -> 106 ;\\n107 [label=\"gini = 0.0\\\\nsamples = 1\\\\nvalue = [3, 0]\", fillcolor=\"#e58139\"] ;\\n103 -> 107 ;\\n108 [label=\"X[4007] <= 0.5\\\\ngini = 0.375\\\\nsamples = 2\\\\nvalue = [1, 3]\", fillcolor=\"#7bbeee\"] ;\\n88 -> 108 ;\\n109 [label=\"gini = 0.0\\\\nsamples = 1\\\\nvalue = [1, 0]\", fillcolor=\"#e58139\"] ;\\n108 -> 109 ;\\n110 [label=\"gini = 0.0\\\\nsamples = 1\\\\nvalue = [0, 3]\", fillcolor=\"#399de5\"] ;\\n108 -> 110 ;\\n111 [label=\"gini = 0.0\\\\nsamples = 5\\\\nvalue = [6, 0]\", fillcolor=\"#e58139\"] ;\\n87 -> 111 ;\\n112 [label=\"gini = 0.0\\\\nsamples = 8\\\\nvalue = [16, 0]\", fillcolor=\"#e58139\"] ;\\n86 -> 112 ;\\n113 [label=\"gini = 0.0\\\\nsamples = 16\\\\nvalue = [27, 0]\", fillcolor=\"#e58139\"] ;\\n85 -> 113 ;\\n114 [label=\"X[5454] <= 0.5\\\\ngini = 0.498\\\\nsamples = 9\\\\nvalue = [8, 7]\", fillcolor=\"#fcefe6\"] ;\\n84 -> 114 ;\\n115 [label=\"X[7844] <= 0.5\\\\ngini = 0.486\\\\nsamples = 8\\\\nvalue = [5, 7]\", fillcolor=\"#c6e3f8\"] ;\\n114 -> 115 ;\\n116 [label=\"X[8180] <= 1.0\\\\ngini = 0.42\\\\nsamples = 7\\\\nvalue = [3, 7]\", fillcolor=\"#8ec7f0\"] ;\\n115 -> 116 ;\\n117 [label=\"X[3990] <= 1.5\\\\ngini = 0.49\\\\nsamples = 5\\\\nvalue = [3, 4]\", fillcolor=\"#cee6f8\"] ;\\n116 -> 117 ;\\n118 [label=\"gini = 0.0\\\\nsamples = 2\\\\nvalue = [0, 3]\", fillcolor=\"#399de5\"] ;\\n117 -> 118 ;\\n119 [label=\"X[3437] <= 1.5\\\\ngini = 0.375\\\\nsamples = 3\\\\nvalue = [3, 1]\", fillcolor=\"#eeab7b\"] ;\\n117 -> 119 ;\\n120 [label=\"gini = 0.0\\\\nsamples = 2\\\\nvalue = [3, 0]\", fillcolor=\"#e58139\"] ;\\n119 -> 120 ;\\n121 [label=\"gini = 0.0\\\\nsamples = 1\\\\nvalue = [0, 1]\", fillcolor=\"#399de5\"] ;\\n119 -> 121 ;\\n122 [label=\"gini = 0.0\\\\nsamples = 2\\\\nvalue = [0, 3]\", fillcolor=\"#399de5\"] ;\\n116 -> 122 ;\\n123 [label=\"gini = 0.0\\\\nsamples = 1\\\\nvalue = [2, 0]\", fillcolor=\"#e58139\"] ;\\n115 -> 123 ;\\n124 [label=\"gini = 0.0\\\\nsamples = 1\\\\nvalue = [3, 0]\", fillcolor=\"#e58139\"] ;\\n114 -> 124 ;\\n125 [label=\"gini = 0.0\\\\nsamples = 1\\\\nvalue = [0, 2]\", fillcolor=\"#399de5\"] ;\\n83 -> 125 ;\\n126 [label=\"gini = 0.0\\\\nsamples = 19\\\\nvalue = [0, 30]\", fillcolor=\"#399de5\"] ;\\n82 -> 126 ;\\n127 [label=\"gini = 0.0\\\\nsamples = 1\\\\nvalue = [0, 4]\", fillcolor=\"#399de5\"] ;\\n81 -> 127 ;\\n128 [label=\"gini = 0.0\\\\nsamples = 5\\\\nvalue = [0, 7]\", fillcolor=\"#399de5\"] ;\\n80 -> 128 ;\\n}'"
      ]
     },
     "execution_count": 28,
     "metadata": {},
     "output_type": "execute_result"
    }
   ],
   "source": [
    "from sklearn.tree import export_graphviz\n",
    "export_graphviz(rf_clf.estimators_[0],\n",
    "                filled=True,\n",
    "                rounded=True)"
   ]
  },
  {
   "cell_type": "code",
   "execution_count": 31,
   "metadata": {},
   "outputs": [
    {
     "data": {
      "text/plain": [
       "32512"
      ]
     },
     "execution_count": 31,
     "metadata": {},
     "output_type": "execute_result"
    }
   ],
   "source": [
    "os.system('dot -Tpng tree.dot -o tree.png')"
   ]
  },
  {
   "cell_type": "code",
   "execution_count": 33,
   "metadata": {},
   "outputs": [],
   "source": [
    "\n",
    "from sklearn import tree"
   ]
  },
  {
   "cell_type": "code",
   "execution_count": 35,
   "metadata": {},
   "outputs": [
    {
     "data": {
      "text/plain": [
       "[Text(415.14520547945204, 361.9, 'X[6408] <= 0.5\\nentropy = 0.147\\nsamples = 1136\\nvalue = [1652, 144]'),\n",
       " Text(356.03287671232874, 346.49999999999994, 'X[3393] <= 0.5\\nentropy = 0.099\\nsamples = 1049\\nvalue = [1564, 86]'),\n",
       " Text(315.26575342465753, 331.09999999999997, 'X[2408] <= 0.5\\nentropy = 0.077\\nsamples = 999\\nvalue = [1510, 63]'),\n",
       " Text(288.0876712328767, 315.7, 'X[2919] <= 1.5\\nentropy = 0.049\\nsamples = 981\\nvalue = [1505, 39]'),\n",
       " Text(277.21643835616436, 300.29999999999995, 'X[2530] <= 1.0\\nentropy = 0.042\\nsamples = 979\\nvalue = [1505, 33]'),\n",
       " Text(255.4739726027397, 284.9, 'X[2528] <= 1.0\\nentropy = 0.037\\nsamples = 975\\nvalue = [1504, 29]'),\n",
       " Text(244.60273972602738, 269.5, 'X[5620] <= 0.5\\nentropy = 0.03\\nsamples = 972\\nvalue = [1504, 23]'),\n",
       " Text(222.86027397260273, 254.09999999999997, 'X[8000] <= 1.0\\nentropy = 0.023\\nsamples = 966\\nvalue = [1498, 18]'),\n",
       " Text(211.9890410958904, 238.7, 'X[450] <= 0.5\\nentropy = 0.021\\nsamples = 965\\nvalue = [1498, 16]'),\n",
       " Text(201.11780821917807, 223.29999999999998, 'X[4179] <= 0.5\\nentropy = 0.018\\nsamples = 964\\nvalue = [1498, 14]'),\n",
       " Text(190.24657534246575, 207.89999999999998, 'X[6087] <= 0.5\\nentropy = 0.016\\nsamples = 963\\nvalue = [1498, 12]'),\n",
       " Text(179.37534246575342, 192.49999999999997, 'X[2117] <= 0.5\\nentropy = 0.013\\nsamples = 962\\nvalue = [1498, 10]'),\n",
       " Text(168.5041095890411, 177.1, 'X[2529] <= 0.5\\nentropy = 0.012\\nsamples = 961\\nvalue = [1498, 9]'),\n",
       " Text(146.76164383561644, 161.7, 'X[1933] <= 0.5\\nentropy = 0.009\\nsamples = 958\\nvalue = [1497, 7]'),\n",
       " Text(135.8904109589041, 146.29999999999998, 'X[8144] <= 1.5\\nentropy = 0.007\\nsamples = 957\\nvalue = [1497, 5]'),\n",
       " Text(114.14794520547945, 130.89999999999998, 'X[2910] <= 0.5\\nentropy = 0.005\\nsamples = 940\\nvalue = [1472, 4]'),\n",
       " Text(103.27671232876712, 115.5, 'X[2184] <= 1.5\\nentropy = 0.006\\nsamples = 803\\nvalue = [1256, 4]'),\n",
       " Text(92.40547945205479, 100.09999999999997, 'X[618] <= 0.5\\nentropy = 0.005\\nsamples = 802\\nvalue = [1256, 3]'),\n",
       " Text(54.35616438356164, 84.69999999999999, 'X[933] <= 0.5\\nentropy = 0.003\\nsamples = 783\\nvalue = [1227, 2]'),\n",
       " Text(32.61369863013699, 69.30000000000001, 'X[7857] <= 0.5\\nentropy = 0.002\\nsamples = 780\\nvalue = [1225, 1]'),\n",
       " Text(21.742465753424657, 53.89999999999998, 'X[3274] <= 0.5\\nentropy = 0.002\\nsamples = 663\\nvalue = [1042, 1]'),\n",
       " Text(10.871232876712329, 38.5, 'entropy = 0.0\\nsamples = 399\\nvalue = [620, 0]'),\n",
       " Text(32.61369863013699, 38.5, 'X[1219] <= 1.5\\nentropy = 0.005\\nsamples = 264\\nvalue = [422, 1]'),\n",
       " Text(21.742465753424657, 23.100000000000023, 'entropy = 0.0\\nsamples = 259\\nvalue = [415, 0]'),\n",
       " Text(43.484931506849314, 23.100000000000023, 'X[4292] <= 0.5\\nentropy = 0.219\\nsamples = 5\\nvalue = [7, 1]'),\n",
       " Text(32.61369863013699, 7.699999999999989, 'entropy = 0.0\\nsamples = 4\\nvalue = [7, 0]'),\n",
       " Text(54.35616438356164, 7.699999999999989, 'entropy = 0.0\\nsamples = 1\\nvalue = [0, 1]'),\n",
       " Text(43.484931506849314, 53.89999999999998, 'entropy = 0.0\\nsamples = 117\\nvalue = [183, 0]'),\n",
       " Text(76.0986301369863, 69.30000000000001, 'X[5676] <= 1.0\\nentropy = 0.444\\nsamples = 3\\nvalue = [2, 1]'),\n",
       " Text(65.22739726027397, 53.89999999999998, 'X[5015] <= 0.5\\nentropy = 0.5\\nsamples = 2\\nvalue = [1, 1]'),\n",
       " Text(54.35616438356164, 38.5, 'entropy = 0.0\\nsamples = 1\\nvalue = [1, 0]'),\n",
       " Text(76.0986301369863, 38.5, 'entropy = 0.0\\nsamples = 1\\nvalue = [0, 1]'),\n",
       " Text(86.96986301369863, 53.89999999999998, 'entropy = 0.0\\nsamples = 1\\nvalue = [1, 0]'),\n",
       " Text(130.45479452054795, 84.69999999999999, 'X[7293] <= 2.5\\nentropy = 0.064\\nsamples = 19\\nvalue = [29, 1]'),\n",
       " Text(119.58356164383561, 69.30000000000001, 'X[5971] <= 0.5\\nentropy = 0.375\\nsamples = 3\\nvalue = [3, 1]'),\n",
       " Text(108.71232876712328, 53.89999999999998, 'X[8032] <= 0.5\\nentropy = 0.5\\nsamples = 2\\nvalue = [1, 1]'),\n",
       " Text(97.84109589041095, 38.5, 'entropy = 0.0\\nsamples = 1\\nvalue = [0, 1]'),\n",
       " Text(119.58356164383561, 38.5, 'entropy = 0.0\\nsamples = 1\\nvalue = [1, 0]'),\n",
       " Text(130.45479452054795, 53.89999999999998, 'entropy = 0.0\\nsamples = 1\\nvalue = [2, 0]'),\n",
       " Text(141.32602739726028, 69.30000000000001, 'entropy = 0.0\\nsamples = 16\\nvalue = [26, 0]'),\n",
       " Text(114.14794520547945, 100.09999999999997, 'entropy = 0.0\\nsamples = 1\\nvalue = [0, 1]'),\n",
       " Text(125.01917808219177, 115.5, 'entropy = 0.0\\nsamples = 137\\nvalue = [216, 0]'),\n",
       " Text(157.63287671232877, 130.89999999999998, 'X[2638] <= 1.0\\nentropy = 0.074\\nsamples = 17\\nvalue = [25, 1]'),\n",
       " Text(146.76164383561644, 115.5, 'entropy = 0.0\\nsamples = 16\\nvalue = [25, 0]'),\n",
       " Text(168.5041095890411, 115.5, 'entropy = 0.0\\nsamples = 1\\nvalue = [0, 1]'),\n",
       " Text(157.63287671232877, 146.29999999999998, 'entropy = 0.0\\nsamples = 1\\nvalue = [0, 2]'),\n",
       " Text(190.24657534246575, 161.7, 'X[6084] <= 0.5\\nentropy = 0.444\\nsamples = 3\\nvalue = [1, 2]'),\n",
       " Text(179.37534246575342, 146.29999999999998, 'entropy = 0.0\\nsamples = 1\\nvalue = [1, 0]'),\n",
       " Text(201.11780821917807, 146.29999999999998, 'entropy = 0.0\\nsamples = 2\\nvalue = [0, 2]'),\n",
       " Text(190.24657534246575, 177.1, 'entropy = 0.0\\nsamples = 1\\nvalue = [0, 1]'),\n",
       " Text(201.11780821917807, 192.49999999999997, 'entropy = 0.0\\nsamples = 1\\nvalue = [0, 2]'),\n",
       " Text(211.9890410958904, 207.89999999999998, 'entropy = 0.0\\nsamples = 1\\nvalue = [0, 2]'),\n",
       " Text(222.86027397260273, 223.29999999999998, 'entropy = 0.0\\nsamples = 1\\nvalue = [0, 2]'),\n",
       " Text(233.73150684931505, 238.7, 'entropy = 0.0\\nsamples = 1\\nvalue = [0, 2]'),\n",
       " Text(266.34520547945203, 254.09999999999997, 'X[407] <= 0.5\\nentropy = 0.496\\nsamples = 6\\nvalue = [6, 5]'),\n",
       " Text(255.4739726027397, 238.7, 'X[296] <= 3.5\\nentropy = 0.375\\nsamples = 5\\nvalue = [6, 2]'),\n",
       " Text(244.60273972602738, 223.29999999999998, 'entropy = 0.0\\nsamples = 4\\nvalue = [6, 0]'),\n",
       " Text(266.34520547945203, 223.29999999999998, 'entropy = 0.0\\nsamples = 1\\nvalue = [0, 2]'),\n",
       " Text(277.21643835616436, 238.7, 'entropy = 0.0\\nsamples = 1\\nvalue = [0, 3]'),\n",
       " Text(266.34520547945203, 269.5, 'entropy = 0.0\\nsamples = 3\\nvalue = [0, 6]'),\n",
       " Text(298.958904109589, 284.9, 'X[77] <= 1.5\\nentropy = 0.32\\nsamples = 4\\nvalue = [1, 4]'),\n",
       " Text(288.0876712328767, 269.5, 'entropy = 0.0\\nsamples = 1\\nvalue = [1, 0]'),\n",
       " Text(309.83013698630134, 269.5, 'entropy = 0.0\\nsamples = 3\\nvalue = [0, 4]'),\n",
       " Text(298.958904109589, 300.29999999999995, 'entropy = 0.0\\nsamples = 2\\nvalue = [0, 6]'),\n",
       " Text(342.4438356164383, 315.7, 'X[3870] <= 0.5\\nentropy = 0.285\\nsamples = 18\\nvalue = [5, 24]'),\n",
       " Text(331.572602739726, 300.29999999999995, 'X[1074] <= 1.5\\nentropy = 0.077\\nsamples = 15\\nvalue = [1, 24]'),\n",
       " Text(320.70136986301367, 284.9, 'entropy = 0.0\\nsamples = 14\\nvalue = [0, 24]'),\n",
       " Text(342.4438356164383, 284.9, 'entropy = 0.0\\nsamples = 1\\nvalue = [1, 0]'),\n",
       " Text(353.3150684931507, 300.29999999999995, 'entropy = 0.0\\nsamples = 3\\nvalue = [4, 0]'),\n",
       " Text(396.8, 331.09999999999997, 'X[3231] <= 0.5\\nentropy = 0.419\\nsamples = 50\\nvalue = [54, 23]'),\n",
       " Text(385.9287671232877, 315.7, 'X[3112] <= 0.5\\nentropy = 0.479\\nsamples = 33\\nvalue = [35, 23]'),\n",
       " Text(375.05753424657536, 300.29999999999995, 'X[8027] <= 0.5\\nentropy = 0.5\\nsamples = 29\\nvalue = [24, 23]'),\n",
       " Text(364.18630136986303, 284.9, 'X[696] <= 1.5\\nentropy = 0.198\\nsamples = 19\\nvalue = [24, 3]'),\n",
       " Text(353.3150684931507, 269.5, 'X[5169] <= 0.5\\nentropy = 0.077\\nsamples = 18\\nvalue = [24, 1]'),\n",
       " Text(342.4438356164383, 254.09999999999997, 'entropy = 0.0\\nsamples = 17\\nvalue = [24, 0]'),\n",
       " Text(364.18630136986303, 254.09999999999997, 'entropy = 0.0\\nsamples = 1\\nvalue = [0, 1]'),\n",
       " Text(375.05753424657536, 269.5, 'entropy = 0.0\\nsamples = 1\\nvalue = [0, 2]'),\n",
       " Text(385.9287671232877, 284.9, 'entropy = 0.0\\nsamples = 10\\nvalue = [0, 20]'),\n",
       " Text(396.8, 300.29999999999995, 'entropy = 0.0\\nsamples = 4\\nvalue = [11, 0]'),\n",
       " Text(407.67123287671234, 315.7, 'entropy = 0.0\\nsamples = 17\\nvalue = [19, 0]'),\n",
       " Text(474.25753424657535, 346.49999999999994, 'X[3878] <= 0.5\\nentropy = 0.479\\nsamples = 87\\nvalue = [88, 58]'),\n",
       " Text(463.386301369863, 331.09999999999997, 'X[3813] <= 1.5\\nentropy = 0.465\\nsamples = 82\\nvalue = [88, 51]'),\n",
       " Text(452.5150684931507, 315.7, 'X[8027] <= 0.5\\nentropy = 0.454\\nsamples = 81\\nvalue = [88, 47]'),\n",
       " Text(441.64383561643837, 300.29999999999995, 'X[8114] <= 0.5\\nentropy = 0.271\\nsamples = 62\\nvalue = [88, 17]'),\n",
       " Text(430.77260273972604, 284.9, 'X[8131] <= 0.5\\nentropy = 0.249\\nsamples = 61\\nvalue = [88, 15]'),\n",
       " Text(396.8, 269.5, 'X[4977] <= 1.5\\nentropy = 0.165\\nsamples = 52\\nvalue = [80, 8]'),\n",
       " Text(385.9287671232877, 254.09999999999997, 'X[296] <= 2.5\\nentropy = 0.228\\nsamples = 36\\nvalue = [53, 8]'),\n",
       " Text(375.05753424657536, 238.7, 'X[294] <= 2.5\\nentropy = 0.292\\nsamples = 28\\nvalue = [37, 8]'),\n",
       " Text(364.18630136986303, 223.29999999999998, 'X[4045] <= 0.5\\nentropy = 0.326\\nsamples = 23\\nvalue = [31, 8]'),\n",
       " Text(328.85479452054796, 207.89999999999998, 'X[3849] <= 0.5\\nentropy = 0.245\\nsamples = 21\\nvalue = [30, 5]'),\n",
       " Text(290.8054794520548, 192.49999999999997, 'X[7286] <= 1.5\\nentropy = 0.204\\nsamples = 16\\nvalue = [23, 3]'),\n",
       " Text(269.06301369863013, 177.1, 'X[294] <= 0.5\\nentropy = 0.124\\nsamples = 10\\nvalue = [14, 1]'),\n",
       " Text(258.1917808219178, 161.7, 'X[8125] <= 0.5\\nentropy = 0.219\\nsamples = 5\\nvalue = [7, 1]'),\n",
       " Text(247.32054794520548, 146.29999999999998, 'entropy = 0.0\\nsamples = 4\\nvalue = [7, 0]'),\n",
       " Text(269.06301369863013, 146.29999999999998, 'entropy = 0.0\\nsamples = 1\\nvalue = [0, 1]'),\n",
       " Text(279.93424657534246, 161.7, 'entropy = 0.0\\nsamples = 5\\nvalue = [7, 0]'),\n",
       " Text(312.54794520547944, 177.1, 'X[6989] <= 0.5\\nentropy = 0.298\\nsamples = 6\\nvalue = [9, 2]'),\n",
       " Text(301.6767123287671, 161.7, 'X[6933] <= 0.5\\nentropy = 0.18\\nsamples = 5\\nvalue = [9, 1]'),\n",
       " Text(290.8054794520548, 146.29999999999998, 'X[6408] <= 1.5\\nentropy = 0.375\\nsamples = 3\\nvalue = [3, 1]'),\n",
       " Text(279.93424657534246, 130.89999999999998, 'entropy = 0.0\\nsamples = 1\\nvalue = [0, 1]'),\n",
       " Text(301.6767123287671, 130.89999999999998, 'entropy = 0.0\\nsamples = 2\\nvalue = [3, 0]'),\n",
       " Text(312.54794520547944, 146.29999999999998, 'entropy = 0.0\\nsamples = 2\\nvalue = [6, 0]'),\n",
       " Text(323.41917808219176, 161.7, 'entropy = 0.0\\nsamples = 1\\nvalue = [0, 1]'),\n",
       " Text(366.90410958904107, 192.49999999999997, 'X[1148] <= 0.5\\nentropy = 0.346\\nsamples = 5\\nvalue = [7, 2]'),\n",
       " Text(356.03287671232874, 177.1, 'X[5259] <= 0.5\\nentropy = 0.444\\nsamples = 4\\nvalue = [4, 2]'),\n",
       " Text(345.1616438356164, 161.7, 'entropy = 0.0\\nsamples = 3\\nvalue = [4, 0]'),\n",
       " Text(366.90410958904107, 161.7, 'entropy = 0.0\\nsamples = 1\\nvalue = [0, 2]'),\n",
       " Text(377.7753424657534, 177.1, 'entropy = 0.0\\nsamples = 1\\nvalue = [3, 0]'),\n",
       " Text(399.51780821917805, 207.89999999999998, 'X[4007] <= 0.5\\nentropy = 0.375\\nsamples = 2\\nvalue = [1, 3]'),\n",
       " Text(388.6465753424657, 192.49999999999997, 'entropy = 0.0\\nsamples = 1\\nvalue = [1, 0]'),\n",
       " Text(410.3890410958904, 192.49999999999997, 'entropy = 0.0\\nsamples = 1\\nvalue = [0, 3]'),\n",
       " Text(385.9287671232877, 223.29999999999998, 'entropy = 0.0\\nsamples = 5\\nvalue = [6, 0]'),\n",
       " Text(396.8, 238.7, 'entropy = 0.0\\nsamples = 8\\nvalue = [16, 0]'),\n",
       " Text(407.67123287671234, 254.09999999999997, 'entropy = 0.0\\nsamples = 16\\nvalue = [27, 0]'),\n",
       " Text(464.74520547945207, 269.5, 'X[5454] <= 0.5\\nentropy = 0.498\\nsamples = 9\\nvalue = [8, 7]'),\n",
       " Text(453.87397260273974, 254.09999999999997, 'X[7844] <= 0.5\\nentropy = 0.486\\nsamples = 8\\nvalue = [5, 7]'),\n",
       " Text(443.0027397260274, 238.7, 'X[8180] <= 1.0\\nentropy = 0.42\\nsamples = 7\\nvalue = [3, 7]'),\n",
       " Text(432.13150684931503, 223.29999999999998, 'X[3990] <= 1.5\\nentropy = 0.49\\nsamples = 5\\nvalue = [3, 4]'),\n",
       " Text(421.2602739726027, 207.89999999999998, 'entropy = 0.0\\nsamples = 2\\nvalue = [0, 3]'),\n",
       " Text(443.0027397260274, 207.89999999999998, 'X[3437] <= 1.5\\nentropy = 0.375\\nsamples = 3\\nvalue = [3, 1]'),\n",
       " Text(432.13150684931503, 192.49999999999997, 'entropy = 0.0\\nsamples = 2\\nvalue = [3, 0]'),\n",
       " Text(453.87397260273974, 192.49999999999997, 'entropy = 0.0\\nsamples = 1\\nvalue = [0, 1]'),\n",
       " Text(453.87397260273974, 223.29999999999998, 'entropy = 0.0\\nsamples = 2\\nvalue = [0, 3]'),\n",
       " Text(464.74520547945207, 238.7, 'entropy = 0.0\\nsamples = 1\\nvalue = [2, 0]'),\n",
       " Text(475.6164383561644, 254.09999999999997, 'entropy = 0.0\\nsamples = 1\\nvalue = [3, 0]'),\n",
       " Text(452.5150684931507, 284.9, 'entropy = 0.0\\nsamples = 1\\nvalue = [0, 2]'),\n",
       " Text(463.386301369863, 300.29999999999995, 'entropy = 0.0\\nsamples = 19\\nvalue = [0, 30]'),\n",
       " Text(474.25753424657535, 315.7, 'entropy = 0.0\\nsamples = 1\\nvalue = [0, 4]'),\n",
       " Text(485.1287671232877, 331.09999999999997, 'entropy = 0.0\\nsamples = 5\\nvalue = [0, 7]')]"
      ]
     },
     "execution_count": 35,
     "metadata": {},
     "output_type": "execute_result"
    }
   ],
   "source": [
    "tree.plot_tree(rf_clf.estimators_[0],\n",
    "               filled = True)"
   ]
  },
  {
   "cell_type": "code",
   "execution_count": 38,
   "metadata": {},
   "outputs": [
    {
     "data": {
      "image/png": "[encoded data removed]",
      "text/plain": [
       "<Figure size 432x288 with 1 Axes>"
      ]
     },
     "metadata": {
      "needs_background": "light"
     },
     "output_type": "display_data"
    }
   ],
   "source": [
    "import matplotlib.pyplot as plt\n",
    "fig, axes = plt.subplots(nrows = 1,ncols = 1)\n",
    "fig.savefig('rf_individualtree.png')"
   ]
  },
  {
   "cell_type": "code",
   "execution_count": null,
   "metadata": {},
   "outputs": [],
   "source": []
  }
 ],
 "metadata": {
  "kernelspec": {
   "display_name": "Python 3",
   "language": "python",
   "name": "python3"
  },
  "language_info": {
   "codemirror_mode": {
    "name": "ipython",
    "version": 3
   },
   "file_extension": ".py",
   "mimetype": "text/x-python",
   "name": "python",
   "nbconvert_exporter": "python",
   "pygments_lexer": "ipython3",
   "version": "3.7.3"
  }
 },
 "nbformat": 4,
 "nbformat_minor": 2
}
